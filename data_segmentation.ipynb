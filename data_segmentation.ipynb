{
 "cells": [
  {
   "cell_type": "code",
   "execution_count": 36,
   "id": "d3d9d2a9",
   "metadata": {},
   "outputs": [],
   "source": [
    "import matplotlib.pyplot as plt\n",
    "import pandas as pd\n",
    "import numpy as np\n",
    "import warnings\n",
    "import datetime\n",
    "import matplotlib.pyplot as plt\n",
    "import pandas as pd\n",
    "import matplotlib.dates as mdates\n",
    "import datetime\n",
    "from scipy import signal\n",
    "from scipy.signal import butter, lfilter, freqz\n",
    "import pywt\n",
    "from scipy import integrate\n",
    "import statistics\n",
    "import math \n",
    "from scipy.signal import find_peaks, peak_prominences\n",
    "#from datetime import datetime\n",
    "warnings.filterwarnings(\"ignore\")"
   ]
  },
  {
   "cell_type": "code",
   "execution_count": 37,
   "id": "8bd37a7f",
   "metadata": {},
   "outputs": [],
   "source": [
    "data_df=pd.read_csv('array_to_return.csv')\n",
    "raw_data=pd.read_csv('segmented.csv',header=None)"
   ]
  },
  {
   "cell_type": "code",
   "execution_count": 38,
   "id": "3cff887b",
   "metadata": {},
   "outputs": [],
   "source": [
    "data_accx_test=raw_data.iloc[:,1]\n",
    "data_accy_test=raw_data.iloc[:,2]\n",
    "data_accz_test=raw_data.iloc[:,3]\n",
    "data_gyrox_test=raw_data.iloc[:,4]\n",
    "data_gyroy_test=raw_data.iloc[:,5]\n",
    "data_gyroz_test=raw_data.iloc[:,6]"
   ]
  },
  {
   "cell_type": "code",
   "execution_count": 39,
   "id": "17c89bc5",
   "metadata": {},
   "outputs": [
    {
     "data": {
      "text/html": [
       "<div>\n",
       "<style scoped>\n",
       "    .dataframe tbody tr th:only-of-type {\n",
       "        vertical-align: middle;\n",
       "    }\n",
       "\n",
       "    .dataframe tbody tr th {\n",
       "        vertical-align: top;\n",
       "    }\n",
       "\n",
       "    .dataframe thead th {\n",
       "        text-align: right;\n",
       "    }\n",
       "</style>\n",
       "<table border=\"1\" class=\"dataframe\">\n",
       "  <thead>\n",
       "    <tr style=\"text-align: right;\">\n",
       "      <th></th>\n",
       "      <th>0</th>\n",
       "      <th>1</th>\n",
       "      <th>2</th>\n",
       "      <th>3</th>\n",
       "      <th>4</th>\n",
       "      <th>5</th>\n",
       "      <th>6</th>\n",
       "    </tr>\n",
       "  </thead>\n",
       "  <tbody>\n",
       "    <tr>\n",
       "      <th>0</th>\n",
       "      <td>-0.990195</td>\n",
       "      <td>-0.990195</td>\n",
       "      <td>9.656150</td>\n",
       "      <td>2.369412</td>\n",
       "      <td>1.876537</td>\n",
       "      <td>14.166640</td>\n",
       "      <td>2.295412</td>\n",
       "    </tr>\n",
       "    <tr>\n",
       "      <th>1</th>\n",
       "      <td>-1.027044</td>\n",
       "      <td>-1.027044</td>\n",
       "      <td>9.657468</td>\n",
       "      <td>2.388235</td>\n",
       "      <td>1.366715</td>\n",
       "      <td>14.981388</td>\n",
       "      <td>2.715140</td>\n",
       "    </tr>\n",
       "    <tr>\n",
       "      <th>2</th>\n",
       "      <td>-0.999266</td>\n",
       "      <td>-0.999266</td>\n",
       "      <td>9.657468</td>\n",
       "      <td>2.388235</td>\n",
       "      <td>0.948227</td>\n",
       "      <td>15.644277</td>\n",
       "      <td>2.922422</td>\n",
       "    </tr>\n",
       "    <tr>\n",
       "      <th>3</th>\n",
       "      <td>-0.953158</td>\n",
       "      <td>-0.953158</td>\n",
       "      <td>9.704694</td>\n",
       "      <td>2.369412</td>\n",
       "      <td>0.654612</td>\n",
       "      <td>15.796896</td>\n",
       "      <td>3.155916</td>\n",
       "    </tr>\n",
       "    <tr>\n",
       "      <th>4</th>\n",
       "      <td>-0.925380</td>\n",
       "      <td>-0.925380</td>\n",
       "      <td>9.733820</td>\n",
       "      <td>2.369412</td>\n",
       "      <td>0.886240</td>\n",
       "      <td>15.921266</td>\n",
       "      <td>2.954240</td>\n",
       "    </tr>\n",
       "  </tbody>\n",
       "</table>\n",
       "</div>"
      ],
      "text/plain": [
       "          0         1         2         3         4          5         6\n",
       "0 -0.990195 -0.990195  9.656150  2.369412  1.876537  14.166640  2.295412\n",
       "1 -1.027044 -1.027044  9.657468  2.388235  1.366715  14.981388  2.715140\n",
       "2 -0.999266 -0.999266  9.657468  2.388235  0.948227  15.644277  2.922422\n",
       "3 -0.953158 -0.953158  9.704694  2.369412  0.654612  15.796896  3.155916\n",
       "4 -0.925380 -0.925380  9.733820  2.369412  0.886240  15.921266  2.954240"
      ]
     },
     "execution_count": 39,
     "metadata": {},
     "output_type": "execute_result"
    }
   ],
   "source": [
    "raw_data.head()"
   ]
  },
  {
   "cell_type": "code",
   "execution_count": 40,
   "id": "202b9740",
   "metadata": {},
   "outputs": [
    {
     "data": {
      "text/html": [
       "<div>\n",
       "<style scoped>\n",
       "    .dataframe tbody tr th:only-of-type {\n",
       "        vertical-align: middle;\n",
       "    }\n",
       "\n",
       "    .dataframe tbody tr th {\n",
       "        vertical-align: top;\n",
       "    }\n",
       "\n",
       "    .dataframe thead th {\n",
       "        text-align: right;\n",
       "    }\n",
       "</style>\n",
       "<table border=\"1\" class=\"dataframe\">\n",
       "  <thead>\n",
       "    <tr style=\"text-align: right;\">\n",
       "      <th></th>\n",
       "      <th>Unnamed: 0</th>\n",
       "      <th>start</th>\n",
       "      <th>stop</th>\n",
       "    </tr>\n",
       "  </thead>\n",
       "  <tbody>\n",
       "    <tr>\n",
       "      <th>0</th>\n",
       "      <td>0</td>\n",
       "      <td>3</td>\n",
       "      <td>46</td>\n",
       "    </tr>\n",
       "    <tr>\n",
       "      <th>1</th>\n",
       "      <td>1</td>\n",
       "      <td>46</td>\n",
       "      <td>48</td>\n",
       "    </tr>\n",
       "    <tr>\n",
       "      <th>2</th>\n",
       "      <td>2</td>\n",
       "      <td>50</td>\n",
       "      <td>52</td>\n",
       "    </tr>\n",
       "  </tbody>\n",
       "</table>\n",
       "</div>"
      ],
      "text/plain": [
       "   Unnamed: 0  start  stop\n",
       "0           0      3    46\n",
       "1           1     46    48\n",
       "2           2     50    52"
      ]
     },
     "execution_count": 40,
     "metadata": {},
     "output_type": "execute_result"
    }
   ],
   "source": [
    "data_df.head()"
   ]
  },
  {
   "cell_type": "code",
   "execution_count": 41,
   "id": "f3399082",
   "metadata": {},
   "outputs": [
    {
     "name": "stdout",
     "output_type": "stream",
     "text": [
      "   Unnamed: 0  start  stop\n",
      "0           0      3    46\n",
      "1           1     46    48\n",
      "2           2     50    52\n"
     ]
    }
   ],
   "source": [
    "print(data_df)"
   ]
  },
  {
   "cell_type": "code",
   "execution_count": 42,
   "id": "2931b5fd",
   "metadata": {},
   "outputs": [],
   "source": [
    "start=data_df['start']\n",
    "stop=data_df['stop']"
   ]
  },
  {
   "cell_type": "code",
   "execution_count": 54,
   "id": "73ac517d",
   "metadata": {},
   "outputs": [],
   "source": [
    "s_data_accx_test=data_accx_test[start[0]*250:(stop[0]-1)*250]\n",
    "s_data_accy_test=data_accy_test[start[0]*250:(stop[0]-1)*250]\n",
    "s_data_accz_test=data_accz_test[start[0]*250:(stop[0]-1)*250]\n"
   ]
  },
  {
   "cell_type": "code",
   "execution_count": 44,
   "id": "456544db",
   "metadata": {},
   "outputs": [],
   "source": [
    "for i in range(0,len(start)):\n",
    "    s_data_accx_test[i]=data_accx_test[(start[i]+3)*250:(stop[i]-1)*250]\n",
    "    s_data_accy_test[i]=data_accy_test[(start[i]+3)*250:(stop[i]-1)*250]\n",
    "    s_data_accz_test[i]=data_accz_test[(start[i]+3)*250:(stop[i]-1)*250]"
   ]
  },
  {
   "cell_type": "code",
   "execution_count": 55,
   "id": "1fe706e0",
   "metadata": {},
   "outputs": [
    {
     "data": {
      "text/plain": [
       "[<matplotlib.lines.Line2D at 0x1ffbc2c90d0>]"
      ]
     },
     "execution_count": 55,
     "metadata": {},
     "output_type": "execute_result"
    },
    {
     "data": {
      "image/png": "[encoded data removed]",
      "text/plain": [
       "<Figure size 216x216 with 1 Axes>"
      ]
     },
     "metadata": {
      "needs_background": "light"
     },
     "output_type": "display_data"
    },
    {
     "data": {
      "image/png": "[encoded data removed]",
      "text/plain": [
       "<Figure size 216x216 with 1 Axes>"
      ]
     },
     "metadata": {
      "needs_background": "light"
     },
     "output_type": "display_data"
    },
    {
     "data": {
      "image/png": "[encoded data removed]",
      "text/plain": [
       "<Figure size 216x216 with 1 Axes>"
      ]
     },
     "metadata": {
      "needs_background": "light"
     },
     "output_type": "display_data"
    }
   ],
   "source": [
    "#for i in range(0,len(start)):\n",
    "fig, ax = plt.subplots(figsize=(3,3))\n",
    "plt.plot(s_data_accx_test)\n",
    "fig, ax = plt.subplots(figsize=(3,3))\n",
    "plt.plot(s_data_accy_test)\n",
    "fig, ax = plt.subplots(figsize=(3,3))\n",
    "plt.plot(s_data_accz_test)\n",
    "  "
   ]
  },
  {
   "cell_type": "code",
   "execution_count": 46,
   "id": "ae828f0c",
   "metadata": {},
   "outputs": [],
   "source": [
    "i=0\n",
    "s_data_accx_test=data_accx_test[start[i]*250:(stop[i]-1)*250]\n",
    "s_data_accy_test=data_accy_test[start[i]*250:(stop[i]-1)*250]\n",
    "s_data_accz_test=data_accz_test[start[i]*250:(stop[i]-1)*250]\n"
   ]
  },
  {
   "cell_type": "code",
   "execution_count": 47,
   "id": "3b0c28d0",
   "metadata": {},
   "outputs": [],
   "source": [
    "array_to_return = pd.DataFrame({\n",
    "    'Av':s_data_accx_test ,\n",
    "    'Am':s_data_accy_test ,\n",
    "    'Ap': s_data_accz_test})\n",
    "array_to_return = pd.DataFrame(array_to_return)\n",
    "array_to_return.to_csv('AvAmAp.csv')"
   ]
  },
  {
   "cell_type": "code",
   "execution_count": 59,
   "id": "cd8ba01f",
   "metadata": {},
   "outputs": [
    {
     "name": "stdout",
     "output_type": "stream",
     "text": [
      "StepNumber= 170\n",
      "StepTime= 0.6174404761904762\n",
      "StanceTime= 0.0\n",
      "StrideTime= 1.2275595238095238\n",
      "SwingTime= 1.2275595238095238\n"
     ]
    }
   ],
   "source": [
    "StepTime=[]\n",
    "StepTime=np.array(StepTime,dtype=np.int64)\n",
    "StanceTime=[]\n",
    "StanceTime=np.array(StanceTime,dtype=np.int64)\n",
    "StrideTime=[]\n",
    "StrideTime=np.array(StrideTime,dtype=np.int64)\n",
    "SwingTime=[]\n",
    "SwingTime=np.array(SwingTime,dtype=np.int64)\n",
    "i=0\n",
    "    #fig, ax = plt.subplots(figsize=(3,3))\n",
    "    #plt.plot(s_data_accz_test[i])\n",
    "av=s_data_accx_test\n",
    "am=s_data_accy_test\n",
    "aa=s_data_accz_test\n",
    "fs=100.0\n",
    "\n",
    "def butter_lowpass(cutoff, fs, order=4):\n",
    "    nyq = 0.5 * fs\n",
    "    normal_cutoff = cutoff / nyq\n",
    "    b, a = butter(order, normal_cutoff, btype='low', analog=False)\n",
    "    return b, a\n",
    "\n",
    "def butter_lowpass_filter(data, cutoff, fs, order=4):\n",
    "    b, a = butter_lowpass(cutoff, fs, order=order)\n",
    "    y = lfilter(b, a, data)\n",
    "    return y\n",
    "order = 4\n",
    "fs = 100.0       \n",
    "cutoff = 20.0  \n",
    "\n",
    "b, a = butter_lowpass(cutoff, fs, order)\n",
    "\n",
    "av = butter_lowpass_filter(av/9.81, cutoff, fs, order)\n",
    "am = butter_lowpass_filter(am/9.81, cutoff, fs, order)\n",
    "aa = butter_lowpass_filter(aa/9.81, cutoff, fs, order)\n",
    "avMean = statistics.mean(av)                                                                \n",
    "amMean = statistics.mean(am)\n",
    "aaMean = statistics.mean(aa)\n",
    "aA=aa*math.cos(math.asin(aaMean))- av*aaMean\n",
    "avv=aa*(aaMean)+av*math.cos(math.asin(aaMean))\n",
    "aM=am*math.cos(math.asin(amMean))- (avv*amMean); \n",
    "aV=am*amMean + avv*(math.cos(math.asin(amMean)))-1;\n",
    "scale_cwt1 = float(fs)/ 5.0\n",
    "scale_cwt2 = float(fs)/ 6.0\n",
    "detrended_data = signal.detrend(aV)\n",
    "def butter_lowpass(cutoff, fs, order=4):\n",
    "    nyq = 0.5 * fs\n",
    "    normal_cutoff = cutoff / nyq\n",
    "    b, a = butter(order, normal_cutoff, btype='low', analog=False)\n",
    "    return b, a\n",
    "\n",
    "def butter_lowpass_filter(data, cutoff, fs, order=4):\n",
    "    b, a = butter_lowpass(cutoff, fs, order=order)\n",
    "    y = lfilter(b, a, data)\n",
    "    return y\n",
    "order = 4\n",
    "fs = 100.0       \n",
    "cutoff = 20.0  \n",
    "\n",
    "b, a = butter_lowpass(cutoff, fs, order)\n",
    "filtered_data = butter_lowpass_filter(detrended_data, cutoff, fs, order)\n",
    "integrated_data = integrate.cumtrapz(-filtered_data)\n",
    "cwt_1, freqs = pywt.cwt(integrated_data, scale_cwt1, 'gaus1')\n",
    "differentiated_data = cwt_1[0]\n",
    "cwt_2, freqs = pywt.cwt(-differentiated_data, scale_cwt2, 'gaus1')\n",
    "re_differentiated_data = cwt_2[0]\n",
    "def _detect_peaks(y, prominence):\n",
    "    from scipy.signal import find_peaks\n",
    "    peaks, properties = find_peaks(y, prominence=prominence)\n",
    "\n",
    "    return peaks\n",
    "\n",
    "x=-differentiated_data\n",
    "peaks, _ = find_peaks(x,height=1)\n",
    "peak_pos=peaks\n",
    "IC=peak_pos\n",
    "y=re_differentiated_data\n",
    "peaks_y, _ = find_peaks(y,height=5)\n",
    "peak_pos_y=peaks_y\n",
    "FC=peak_pos_y\n",
    "X = len(IC)\n",
    "#if (FC[0]-IC[0])< 0:\n",
    " #   FC = np.delete(FC, 0)\n",
    "#if (FC[0]-IC[0])/100> 1:\n",
    " #   IC = np.delete(IC, 0)\n",
    "\n",
    "total1=0;\n",
    "total2=0;\n",
    "total3=0;\n",
    "integ=0\n",
    "for j in range(0,X-2):\n",
    "    StepTime=(IC[j+1]-IC[j])\n",
    "    total1=total1+StepTime\n",
    "for j in range(0,X-2):    \n",
    "    StanceTime= FC[j + 1] - IC[j]\n",
    "    if 20< StanceTime<100:\n",
    "        total2=total2+StanceTime\n",
    "    integ=integ+1\n",
    "for j in range(0,X-2):        \n",
    "    StrideTime = IC[j + 2] - IC[j]\n",
    "    total3=total3+StrideTime\n",
    "    \n",
    "\n",
    "StepTime=(total1)/((X-2)*100)\n",
    "StanceTime=(total2)/((integ)*100)\n",
    "StrideTime=(total3)/((X-2)*100)\n",
    "SwingTime=StrideTime-StanceTime\n",
    "print('StepNumber=',X)\n",
    "print('StepTime=',StepTime)\n",
    "print('StanceTime=',StanceTime)\n",
    "print('StrideTime=',StrideTime)\n",
    "print('SwingTime=',SwingTime)\n",
    "\n",
    "\n"
   ]
  },
  {
   "cell_type": "code",
   "execution_count": null,
   "id": "f0097dc6",
   "metadata": {},
   "outputs": [],
   "source": []
  }
 ],
 "metadata": {
  "kernelspec": {
   "display_name": "Python 3 (ipykernel)",
   "language": "python",
   "name": "python3"
  },
  "language_info": {
   "codemirror_mode": {
    "name": "ipython",
    "version": 3
   },
   "file_extension": ".py",
   "mimetype": "text/x-python",
   "name": "python",
   "nbconvert_exporter": "python",
   "pygments_lexer": "ipython3",
   "version": "3.9.7"
  }
 },
 "nbformat": 4,
 "nbformat_minor": 5
}
