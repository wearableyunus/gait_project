{
 "cells": [
  {
   "cell_type": "code",
   "execution_count": 1,
   "id": "11a5fb53",
   "metadata": {},
   "outputs": [],
   "source": [
    "import matplotlib.pyplot as plt\n",
    "import pandas as pd\n",
    "import numpy as np\n",
    "import warnings\n",
    "import datetime\n",
    "import matplotlib.pyplot as plt\n",
    "import pandas as pd\n",
    "import matplotlib.dates as mdates\n",
    "import datetime\n",
    "from scipy import signal\n",
    "from scipy.signal import butter, lfilter, freqz\n",
    "import pywt\n",
    "from scipy import integrate\n",
    "import statistics\n",
    "from scipy import stats\n",
    "import math \n",
    "from scipy.signal import find_peaks, peak_prominences\n",
    "from numpy import mean\n",
    "from numpy import std\n",
    "from sklearn.model_selection import cross_val_score\n",
    "from sklearn.model_selection import RepeatedStratifiedKFold\n",
    "from sklearn.discriminant_analysis import LinearDiscriminantAnalysis\n",
    "from sklearn.linear_model import LinearRegression\n",
    "from sklearn.neural_network import MLPRegressor\n",
    "from sklearn.ensemble import RandomForestRegressor\n",
    "from sklearn.model_selection import train_test_split\n",
    "from sklearn.svm import SVC\n",
    "from sklearn.discriminant_analysis import LinearDiscriminantAnalysis\n",
    "import pickle\n",
    "\n",
    "warnings.filterwarnings(\"ignore\")"
   ]
  },
  {
   "cell_type": "code",
   "execution_count": 2,
   "id": "cbc20359",
   "metadata": {},
   "outputs": [],
   "source": [
    "#raw_data=pd.read_csv('NP_raw_data_stream.csv',header=None)\n",
    "raw_data=pd.read_csv('segmented.csv',header=None)"
   ]
  },
  {
   "cell_type": "code",
   "execution_count": 3,
   "id": "72bfe529",
   "metadata": {},
   "outputs": [
    {
     "data": {
      "text/html": [
       "<div>\n",
       "<style scoped>\n",
       "    .dataframe tbody tr th:only-of-type {\n",
       "        vertical-align: middle;\n",
       "    }\n",
       "\n",
       "    .dataframe tbody tr th {\n",
       "        vertical-align: top;\n",
       "    }\n",
       "\n",
       "    .dataframe thead th {\n",
       "        text-align: right;\n",
       "    }\n",
       "</style>\n",
       "<table border=\"1\" class=\"dataframe\">\n",
       "  <thead>\n",
       "    <tr style=\"text-align: right;\">\n",
       "      <th></th>\n",
       "      <th>0</th>\n",
       "      <th>1</th>\n",
       "      <th>2</th>\n",
       "      <th>3</th>\n",
       "      <th>4</th>\n",
       "      <th>5</th>\n",
       "      <th>6</th>\n",
       "    </tr>\n",
       "  </thead>\n",
       "  <tbody>\n",
       "    <tr>\n",
       "      <th>0</th>\n",
       "      <td>-0.990195</td>\n",
       "      <td>-0.990195</td>\n",
       "      <td>9.656150</td>\n",
       "      <td>2.369412</td>\n",
       "      <td>1.876537</td>\n",
       "      <td>14.166640</td>\n",
       "      <td>2.295412</td>\n",
       "    </tr>\n",
       "    <tr>\n",
       "      <th>1</th>\n",
       "      <td>-1.027044</td>\n",
       "      <td>-1.027044</td>\n",
       "      <td>9.657468</td>\n",
       "      <td>2.388235</td>\n",
       "      <td>1.366715</td>\n",
       "      <td>14.981388</td>\n",
       "      <td>2.715140</td>\n",
       "    </tr>\n",
       "    <tr>\n",
       "      <th>2</th>\n",
       "      <td>-0.999266</td>\n",
       "      <td>-0.999266</td>\n",
       "      <td>9.657468</td>\n",
       "      <td>2.388235</td>\n",
       "      <td>0.948227</td>\n",
       "      <td>15.644277</td>\n",
       "      <td>2.922422</td>\n",
       "    </tr>\n",
       "    <tr>\n",
       "      <th>3</th>\n",
       "      <td>-0.953158</td>\n",
       "      <td>-0.953158</td>\n",
       "      <td>9.704694</td>\n",
       "      <td>2.369412</td>\n",
       "      <td>0.654612</td>\n",
       "      <td>15.796896</td>\n",
       "      <td>3.155916</td>\n",
       "    </tr>\n",
       "    <tr>\n",
       "      <th>4</th>\n",
       "      <td>-0.925380</td>\n",
       "      <td>-0.925380</td>\n",
       "      <td>9.733820</td>\n",
       "      <td>2.369412</td>\n",
       "      <td>0.886240</td>\n",
       "      <td>15.921266</td>\n",
       "      <td>2.954240</td>\n",
       "    </tr>\n",
       "  </tbody>\n",
       "</table>\n",
       "</div>"
      ],
      "text/plain": [
       "          0         1         2         3         4          5         6\n",
       "0 -0.990195 -0.990195  9.656150  2.369412  1.876537  14.166640  2.295412\n",
       "1 -1.027044 -1.027044  9.657468  2.388235  1.366715  14.981388  2.715140\n",
       "2 -0.999266 -0.999266  9.657468  2.388235  0.948227  15.644277  2.922422\n",
       "3 -0.953158 -0.953158  9.704694  2.369412  0.654612  15.796896  3.155916\n",
       "4 -0.925380 -0.925380  9.733820  2.369412  0.886240  15.921266  2.954240"
      ]
     },
     "execution_count": 3,
     "metadata": {},
     "output_type": "execute_result"
    }
   ],
   "source": [
    "raw_data.head()"
   ]
  },
  {
   "cell_type": "markdown",
   "id": "eace172a",
   "metadata": {},
   "source": [
    "time=raw_data['Time']\n",
    "data_accx_test=raw_data['ACCX']\n",
    "data_accy_test=raw_data['ACCY']\n",
    "data_accz_test=raw_data['ACCZ']\n",
    "data_gyrox_test=raw_data['GYROX']\n",
    "data_agyroy_test=raw_data['GYROY']\n",
    "data_gyroz_test=raw_data['GYROZ']"
   ]
  },
  {
   "cell_type": "code",
   "execution_count": 4,
   "id": "5a0361ba",
   "metadata": {},
   "outputs": [],
   "source": [
    "data_accx_test=raw_data.iloc[:,1]\n",
    "data_accy_test=raw_data.iloc[:,2]\n",
    "data_accz_test=raw_data.iloc[:,3]\n",
    "data_gyrox_test=raw_data.iloc[:,4]\n",
    "data_gyroy_test=raw_data.iloc[:,5]\n",
    "data_gyroz_test=raw_data.iloc[:,6]"
   ]
  },
  {
   "cell_type": "markdown",
   "id": "521294ce",
   "metadata": {},
   "source": [
    "def butter_lowpass(cutoff, fs, order=4):\n",
    "    nyq = 0.5 * fs\n",
    "    normal_cutoff = cutoff / nyq\n",
    "    b, a = butter(order, normal_cutoff, btype='low', analog=False)\n",
    "    return b, a\n",
    "\n",
    "def butter_lowpass_filter(data, cutoff, fs, order=4):\n",
    "    b, a = butter_lowpass(cutoff, fs, order=order)\n",
    "    y = lfilter(b, a, data)\n",
    "    return y\n",
    "order = 4\n",
    "fs = 100.0       \n",
    "cutoff = 20.0  \n",
    "\n",
    "b, a = butter_lowpass(cutoff, fs, order)\n",
    "\n",
    "data_accx_test = butter_lowpass_filter(data_accx_test, cutoff, fs, order)\n",
    "data_accy_test = butter_lowpass_filter(data_accy_test, cutoff, fs, order)\n",
    "data_accz_test = butter_lowpass_filter(data_accz_test, cutoff, fs, order)\n",
    "\n",
    "data_gyrox_test = butter_lowpass_filter(data_gyrox_test, cutoff, fs, order)\n",
    "data_gyroy_test = butter_lowpass_filter(data_gyroy_test, cutoff, fs, order)\n",
    "data_gyroz_test = butter_lowpass_filter(data_gyroz_test, cutoff, fs, order)\n",
    "\n",
    "\n"
   ]
  },
  {
   "cell_type": "code",
   "execution_count": 5,
   "id": "1f1f944a",
   "metadata": {},
   "outputs": [
    {
     "data": {
      "text/plain": [
       "21101"
      ]
     },
     "execution_count": 5,
     "metadata": {},
     "output_type": "execute_result"
    }
   ],
   "source": [
    "len(data_accy_test)"
   ]
  },
  {
   "cell_type": "code",
   "execution_count": 6,
   "id": "17b2f829",
   "metadata": {},
   "outputs": [
    {
     "data": {
      "text/plain": [
       "[<matplotlib.lines.Line2D at 0x13ca35800a0>]"
      ]
     },
     "execution_count": 6,
     "metadata": {},
     "output_type": "execute_result"
    },
    {
     "data": {
      "image/png": "[encoded data removed]",
      "text/plain": [
       "<Figure size 1080x576 with 1 Axes>"
      ]
     },
     "metadata": {
      "needs_background": "light"
     },
     "output_type": "display_data"
    }
   ],
   "source": [
    "fig, ax = plt.subplots(figsize=(15,8))\n",
    "plt.plot(data_accz_test)"
   ]
  },
  {
   "cell_type": "code",
   "execution_count": 7,
   "id": "21f06ff6",
   "metadata": {},
   "outputs": [],
   "source": [
    "row_number=round(len(data_accx_test)/250)\n",
    "N=len(data_accx_test)-(row_number*250)\n"
   ]
  },
  {
   "cell_type": "code",
   "execution_count": null,
   "id": "cf9388aa",
   "metadata": {},
   "outputs": [],
   "source": [
    "\n",
    "data_accx_test.drop(data_accx_test.tail(N).index,inplace=True)\n",
    "data_accy_test.drop(data_accx_test.tail(N).index,inplace=True)\n",
    "data_accz_test.drop(data_accx_test.tail(N).index,inplace=True)\n",
    "data_gyrox_test.drop(data_gyrox_test.tail(N).index,inplace=True)\n",
    "data_gyroy_test.drop(data_gyroy_test.tail(N).index,inplace=True)\n",
    "data_gyroz_test.drop(data_gyroz_test.tail(N).index,inplace=True)\n",
    "\n"
   ]
  },
  {
   "cell_type": "code",
   "execution_count": null,
   "id": "4ea03404",
   "metadata": {},
   "outputs": [],
   "source": [
    "from itertools import islice\n",
    "\n",
    "def chunk(it, size):\n",
    "    it = iter(it)\n",
    "    return iter(lambda: tuple(islice(it, size)), ())\n",
    "data_accx_test=list(chunk(data_accx_test, 250))\n",
    "data_accy_test=list(chunk(data_accy_test, 250))\n",
    "data_accz_test=list(chunk(data_accz_test, 250))\n",
    "data_gyrox_test=list(chunk(data_gyrox_test, 250))\n",
    "data_gyroy_test=list(chunk(data_gyroy_test, 250))\n",
    "data_gyroz_test=list(chunk(data_gyroz_test, 250))\n"
   ]
  },
  {
   "cell_type": "code",
   "execution_count": null,
   "id": "05b098e6",
   "metadata": {},
   "outputs": [],
   "source": [
    "data_accx_test=pd.DataFrame(data_accx_test)\n",
    "data_accy_test=pd.DataFrame(data_accy_test)\n",
    "data_accz_test=pd.DataFrame(data_accz_test)\n",
    "data_gyrox_test=pd.DataFrame(data_gyrox_test)\n",
    "data_gyroy_test=pd.DataFrame(data_gyroy_test)\n",
    "data_gyroz_test=pd.DataFrame(data_gyroz_test)\n",
    "\n",
    "#y=y.T\n",
    "\n",
    "data_accx_test.to_csv('accx_array.csv')\n",
    "data_accy_test.to_csv('accy_array.csv')\n",
    "data_accz_test.to_csv('accz_array.csv')\n",
    "data_gyrox_test.to_csv('gyrox_array.csv')\n",
    "data_gyroy_test.to_csv('gyroy_array.csv')\n",
    "data_gyroz_test.to_csv('gyroz_array.csv')"
   ]
  },
  {
   "cell_type": "code",
   "execution_count": null,
   "id": "982a0c63",
   "metadata": {},
   "outputs": [],
   "source": [
    "an_array_test = np.full([len(data_accx_test),24], None)"
   ]
  },
  {
   "cell_type": "code",
   "execution_count": null,
   "id": "c532aa8c",
   "metadata": {},
   "outputs": [],
   "source": [
    "#Test\n",
    "for i in range(0,len(data_accx_test-1)):\n",
    "    an_array_test[i,0]= statistics.mean(data_accx_test.iloc[i])\n",
    "    an_array_test[i,1]= statistics.mean(data_accy_test.iloc[i])\n",
    "    an_array_test[i,2]= statistics.mean(data_accz_test.iloc[i])\n",
    "    an_array_test[i,3]= statistics.mean(data_gyrox_test.iloc[i])\n",
    "    an_array_test[i,4]= statistics.mean(data_gyroy_test.iloc[i])\n",
    "    an_array_test[i,5]= statistics.mean(data_gyroz_test.iloc[i])\n",
    "    an_array_test[i,6]= statistics.stdev(data_accx_test.iloc[i])\n",
    "    an_array_test[i,7]= statistics.stdev(data_accy_test.iloc[i])\n",
    "    an_array_test[i,8]= statistics.stdev(data_accz_test.iloc[i])\n",
    "    an_array_test[i,9]= statistics.stdev(data_gyrox_test.iloc[i])\n",
    "    an_array_test[i,10]= statistics.stdev(data_gyroy_test.iloc[i])\n",
    "    an_array_test[i,11]= statistics.stdev(data_gyroz_test.iloc[i])\n",
    "    an_array_test[i,12]= np.sum(data_accx_test.iloc[i])\n",
    "    an_array_test[i,13]= np.sum(data_accy_test.iloc[i])\n",
    "    an_array_test[i,14]= np.sum(data_accz_test.iloc[i])\n",
    "    an_array_test[i,15]= np.sum(data_gyrox_test.iloc[i])\n",
    "    an_array_test[i,16]= np.sum(data_gyroy_test.iloc[i])\n",
    "    an_array_test[i,17]= np.sum(data_gyroz_test.iloc[i])\n",
    "    an_array_test[i,18]= statistics.variance(data_accx_test.iloc[i])\n",
    "    an_array_test[i,19]= statistics.variance(data_accy_test.iloc[i])\n",
    "    an_array_test[i,20]= statistics.variance(data_accz_test.iloc[i])\n",
    "    an_array_test[i,21]= statistics.variance(data_gyrox_test.iloc[i])\n",
    "    an_array_test[i,22]= statistics.variance(data_gyroy_test.iloc[i])\n",
    "    an_array_test[i,23]= statistics.variance(data_gyroz_test.iloc[i])\n",
    "    "
   ]
  },
  {
   "cell_type": "code",
   "execution_count": null,
   "id": "01a6d1de",
   "metadata": {},
   "outputs": [],
   "source": [
    "X_final_test=an_array_test"
   ]
  },
  {
   "cell_type": "code",
   "execution_count": null,
   "id": "576d9128",
   "metadata": {},
   "outputs": [],
   "source": [
    "filename = 'finalized_model.sav'\n",
    "loaded_model = pickle.load(open(filename, 'rb'))"
   ]
  },
  {
   "cell_type": "code",
   "execution_count": null,
   "id": "e52a7778",
   "metadata": {},
   "outputs": [],
   "source": [
    "Xnew = X_final_test\n",
    "ynew = loaded_model.predict(Xnew)"
   ]
  },
  {
   "cell_type": "code",
   "execution_count": null,
   "id": "1efa6872",
   "metadata": {},
   "outputs": [],
   "source": [
    "ynew"
   ]
  },
  {
   "cell_type": "code",
   "execution_count": null,
   "id": "99d59400",
   "metadata": {},
   "outputs": [],
   "source": [
    "ynew = pd.DataFrame(ynew)\n",
    "ynew.to_csv('ynew.csv')"
   ]
  },
  {
   "cell_type": "code",
   "execution_count": null,
   "id": "38b85bcd",
   "metadata": {},
   "outputs": [],
   "source": [
    "len(ynew)"
   ]
  },
  {
   "cell_type": "markdown",
   "id": "5cd4c213",
   "metadata": {},
   "source": [
    "import matplotlib.pyplot as plt\n",
    "#%matplotlib notebook \n",
    "data_accx_test=raw_data.iloc[:,1]\n",
    "fig, ax = plt.subplots(figsize=(8,8))\n",
    "plt.plot(data_accx_test)\n"
   ]
  },
  {
   "cell_type": "code",
   "execution_count": null,
   "id": "b06bc77a",
   "metadata": {},
   "outputs": [],
   "source": [
    "type(ynew)\n",
    "ynew.columns=['A']\n",
    "ynew=ynew['A'] \n"
   ]
  },
  {
   "cell_type": "code",
   "execution_count": null,
   "id": "113caa24",
   "metadata": {},
   "outputs": [],
   "source": [
    "locations=[]\n",
    "counter_walking=0;\n",
    "counter_not_walking=0\n",
    "for i in range(0,len(ynew-1)):\n",
    "    if ynew[i]==1:\n",
    "        print('bout detected',i)\n",
    "        locations.append(i)\n",
    "        counter_walking=counter_walking+1\n",
    "    else:\n",
    "        print('bout could not detected',i)\n",
    "        counter_not_walking=counter_not_walking+1\n",
    "       \n",
    "        \n",
    "       "
   ]
  },
  {
   "cell_type": "code",
   "execution_count": null,
   "id": "a589b3fa",
   "metadata": {},
   "outputs": [],
   "source": [
    "locations"
   ]
  },
  {
   "cell_type": "code",
   "execution_count": null,
   "id": "d260d3aa",
   "metadata": {},
   "outputs": [],
   "source": [
    "start=locations[0]\n",
    "end=[]\n",
    "i=start\n",
    "for i in range(start,len(ynew-1)):\n",
    "    if locations[i]+1==locations[i+1]:\n",
    "        end=i+1\n",
    "    else:\n",
    "        break\n"
   ]
  },
  {
   "cell_type": "code",
   "execution_count": null,
   "id": "4d0b65e2",
   "metadata": {},
   "outputs": [],
   "source": [
    "ynew[0]"
   ]
  },
  {
   "cell_type": "code",
   "execution_count": null,
   "id": "f86100ae",
   "metadata": {},
   "outputs": [],
   "source": [
    "\n",
    "    if ynew[0]==0:\n",
    "        changes=np.where(np.diff(ynew,prepend=np.nan))[0]\n",
    "        walking_bouts=range(len(changes))\n",
    "        "
   ]
  },
  {
   "cell_type": "code",
   "execution_count": null,
   "id": "c826038a",
   "metadata": {},
   "outputs": [],
   "source": [
    "changes"
   ]
  },
  {
   "cell_type": "code",
   "execution_count": null,
   "id": "9be3666b",
   "metadata": {},
   "outputs": [],
   "source": [
    "walking_intervals=[]\n",
    "for i in range(0,len(changes)-1):\n",
    "    walking_intervals.append(changes[i+1])"
   ]
  },
  {
   "cell_type": "code",
   "execution_count": null,
   "id": "353ad3d8",
   "metadata": {},
   "outputs": [],
   "source": [
    "walking_intervals"
   ]
  },
  {
   "cell_type": "code",
   "execution_count": null,
   "id": "c676f112",
   "metadata": {},
   "outputs": [],
   "source": [
    "start=[]\n",
    "stop=[]\n",
    "\n",
    "for i in range(0,len(walking_intervals)):\n",
    "       if (i % 2) == 0:  \n",
    "            start.append(walking_intervals[i])\n",
    "       else:\n",
    "            stop.append(walking_intervals[i]+1)\n",
    "       \n",
    "            "
   ]
  },
  {
   "cell_type": "code",
   "execution_count": null,
   "id": "f59353fb",
   "metadata": {},
   "outputs": [],
   "source": [
    "walking_intervals=[]\n",
    "walking_intervals.append(changes[i+1])"
   ]
  },
  {
   "cell_type": "code",
   "execution_count": null,
   "id": "05117edc",
   "metadata": {},
   "outputs": [],
   "source": [
    "data_accz_test=raw_data.iloc[:,3]\n",
    "fig, ax = plt.subplots(figsize=(15,8))\n",
    "plt.plot(data_accz_test[750:11500])"
   ]
  },
  {
   "cell_type": "code",
   "execution_count": null,
   "id": "0ef3b1b4",
   "metadata": {},
   "outputs": [],
   "source": [
    "start"
   ]
  },
  {
   "cell_type": "code",
   "execution_count": null,
   "id": "ba256ef6",
   "metadata": {},
   "outputs": [],
   "source": [
    "stop"
   ]
  },
  {
   "cell_type": "code",
   "execution_count": null,
   "id": "2e8b69ed",
   "metadata": {},
   "outputs": [],
   "source": [
    "\n",
    "\n",
    "#s_data_accx_test=data_accx_test[start[0]*250:(stop[0]-1)*250]\n",
    "#s_data_accy_test=data_accy_test[start[0]*250:stop[0]*250]\n",
    "#s_data_accz_test=data_accz_test[start[0]*250:stop[0]*250]\n",
    "#s_data_gyrox_test=data_gyrox_test[start[0]*250:stop[0]*250]\n",
    "#s_data_gyroy_test=data_gyroy_test[start[0]*250:stop[0]*250]\n",
    "#s_data_gyroz_test=data_gyroz_test[start[0]*250:stop[0]*250]\n"
   ]
  },
  {
   "cell_type": "code",
   "execution_count": null,
   "id": "00829b69",
   "metadata": {},
   "outputs": [],
   "source": [
    "array_to_return=[]\n",
    "for i in range(0,len(start)-1):\n",
    "    array_to_return.append(start[i])\n",
    "    array_to_return.append(stop[i])\n",
    "\n",
    "\n"
   ]
  },
  {
   "cell_type": "code",
   "execution_count": null,
   "id": "7aeab982",
   "metadata": {},
   "outputs": [],
   "source": [
    "#delete last element of start and stop\n",
    "if len(start)> len(stop):\n",
    "       start.pop()"
   ]
  },
  {
   "cell_type": "code",
   "execution_count": null,
   "id": "7185f3b7",
   "metadata": {},
   "outputs": [],
   "source": [
    "if len(start)< len(stop):\n",
    "       stop.pop()"
   ]
  },
  {
   "cell_type": "markdown",
   "id": "b59c553f",
   "metadata": {},
   "source": [
    "#merging detected gait bouts\n",
    "array_to_return = pd.DataFrame({\n",
    "    'start':start ,\n",
    "    'stop': stop})\n",
    "array_to_return = pd.DataFrame(array_to_return)\n",
    "array_to_return.to_csv('array_to_return.csv')"
   ]
  },
  {
   "cell_type": "code",
   "execution_count": null,
   "id": "0aa79857",
   "metadata": {},
   "outputs": [],
   "source": [
    "#for each 2.5 seconds\n",
    "array_to_return = pd.DataFrame({\n",
    "    'start':locations})\n",
    "array_to_return = pd.DataFrame(array_to_return)\n",
    "array_to_return.to_csv('array_to_return.csv')"
   ]
  },
  {
   "cell_type": "code",
   "execution_count": null,
   "id": "af0de646",
   "metadata": {},
   "outputs": [],
   "source": [
    "number=[]\n",
    "StepT=[]\n",
    "StanceT=[]\n",
    "StrideT=[]\n",
    "SwingT=[]\n"
   ]
  },
  {
   "cell_type": "code",
   "execution_count": null,
   "id": "d76b65dd",
   "metadata": {},
   "outputs": [],
   "source": [
    "for i in range(5,20):\n",
    "  \n",
    "    %store i\n",
    "    %run locations_based_segmentation.ipynb\n",
    "    StepT.append(StepTime)\n",
    "    StanceT.append(StanceTime)\n",
    "    StrideT.append(StrideTime)\n",
    "    SwingT.append(SwingTime) \n",
    "    number.append(X)\n"
   ]
  },
  {
   "cell_type": "code",
   "execution_count": null,
   "id": "fa4fa094",
   "metadata": {},
   "outputs": [],
   "source": [
    "for k in range(0,len(StepT)-1):\n",
    "    if StepT[k]>1.0 or StepT[k]<0.3:\n",
    "        StepT[k]=0\n",
    "for l in range(0,len(StrideT)-1):\n",
    "    if StrideT[l]>1.5 or StrideT[l]<0.3:\n",
    "        StrideT[l]=0\n",
    "for m in range(0,len(StanceT)-1):\n",
    "    if StanceT[m]>1.0 or StanceT[m]<0.3:\n",
    "        StanceT[m]=0\n",
    "for n in range(0,len(SwingT)-1):\n",
    "    if SwingT[n]>1.0 or SwingT[n]<0.1:\n",
    "        SwingT[n]=0      "
   ]
  },
  {
   "cell_type": "code",
   "execution_count": null,
   "id": "214c1302",
   "metadata": {},
   "outputs": [],
   "source": [
    "StepT = [i for i in StepT if i != 0]\n",
    "StrideT = [i for i in StrideT if i != 0]\n",
    "StanceT = [i for i in StanceT if i != 0]\n",
    "SwingT = [i for i in SwingT if i != 0]"
   ]
  },
  {
   "cell_type": "code",
   "execution_count": null,
   "id": "8d3a1cae",
   "metadata": {},
   "outputs": [],
   "source": [
    "Results = {'Number of walking bouts':number ,'Step Times':StepT , 'Stride Times':StrideT , 'Stance Times':StanceT , \n",
    "           'Swing Times':SwingT}\n",
    "Results = pd.DataFrame.from_dict(Results, orient='index')\n",
    "Results = Results.transpose()\n",
    "Results.to_csv('Results.csv')\n"
   ]
  },
  {
   "cell_type": "code",
   "execution_count": null,
   "id": "de974a38",
   "metadata": {},
   "outputs": [],
   "source": [
    "def Average(value):\n",
    "    return sum(value) / len(value)"
   ]
  },
  {
   "cell_type": "code",
   "execution_count": null,
   "id": "2d758a35",
   "metadata": {},
   "outputs": [],
   "source": [
    "def Sum(value):\n",
    "    return sum(value)"
   ]
  },
  {
   "cell_type": "code",
   "execution_count": null,
   "id": "e5b36910",
   "metadata": {},
   "outputs": [],
   "source": [
    "Sum.number=Average(number)\n",
    "Average.StepT=Average(StepT)\n",
    "Average.StrideT=Average(StrideT)\n",
    "Average.StanceT=Average(StanceT)\n",
    "Average.SwingT=Average(SwingT)"
   ]
  },
  {
   "cell_type": "code",
   "execution_count": null,
   "id": "f65fcbad",
   "metadata": {},
   "outputs": [],
   "source": [
    "visual = pd.DataFrame({'Parameters':[ 'Stride Time','Step Time', 'Stance Time', 'Swing Time'], 'value':[Average.StrideT, Average.StepT,\n",
    "                                                                                                      Average.StanceT,Average.SwingT]})\n",
    "ax = visual.plot.bar(x='Parameters', y='value', rot=0)"
   ]
  },
  {
   "cell_type": "code",
   "execution_count": null,
   "id": "5a62ee31",
   "metadata": {},
   "outputs": [],
   "source": [
    "graph= [counter_walking,counter_not_walking]\n",
    "mylabels = [\"bout detected\", \"No bout detected\"]\n",
    "myexplode = [0.1, 0]\n",
    "plt.pie(graph,labels = mylabels, startangle = 90, explode = myexplode)\n",
    "plt.show()\n"
   ]
  },
  {
   "cell_type": "code",
   "execution_count": 1,
   "id": "fef4ece4",
   "metadata": {},
   "outputs": [
    {
     "name": "stdout",
     "output_type": "stream",
     "text": [
      "Requirement already satisfied: anvil-uplink in c:\\users\\clk\\anaconda3\\lib\\site-packages (0.3.41)\n",
      "Collecting argparse\n",
      "  Using cached argparse-1.4.0-py2.py3-none-any.whl (23 kB)\n",
      "Requirement already satisfied: six in c:\\users\\clk\\anaconda3\\lib\\site-packages (from anvil-uplink) (1.16.0)\n",
      "Requirement already satisfied: future in c:\\users\\clk\\anaconda3\\lib\\site-packages (from anvil-uplink) (0.18.2)\n",
      "Requirement already satisfied: ws4py in c:\\users\\clk\\anaconda3\\lib\\site-packages (from anvil-uplink) (0.5.1)\n",
      "Installing collected packages: argparse\n",
      "Successfully installed argparse-1.4.0\n"
     ]
    }
   ],
   "source": [
    "!pip install anvil-uplink"
   ]
  },
  {
   "cell_type": "code",
   "execution_count": 3,
   "id": "e47990ef",
   "metadata": {},
   "outputs": [
    {
     "name": "stdout",
     "output_type": "stream",
     "text": [
      "Disconnecting from previous connection first...\n",
      "Connecting to wss://anvil.works/uplink\n",
      "Anvil websocket closed (code 1000, reason=b'')\n",
      "Anvil websocket open\n",
      "Connected to \"Default environment\" as SERVER\n"
     ]
    }
   ],
   "source": [
    "import anvil.server\n",
    "\n",
    "anvil.server.connect(\"AZZVPTDKVWUOK25IP5IZI5NC-PGDLH5E2V72RT4ZO\")"
   ]
  },
  {
   "cell_type": "code",
   "execution_count": 4,
   "id": "06594db7",
   "metadata": {},
   "outputs": [],
   "source": [
    "@anvil.server.callable\n",
    "def say_hello_j(name):\n",
    "    print(f\"greetings{name}\")\n",
    "    return f\"Hello from Jupyter, [name]\""
   ]
  },
  {
   "cell_type": "code",
   "execution_count": null,
   "id": "13e085e1",
   "metadata": {},
   "outputs": [],
   "source": []
  }
 ],
 "metadata": {
  "kernelspec": {
   "display_name": "Python 3 (ipykernel)",
   "language": "python",
   "name": "python3"
  },
  "language_info": {
   "codemirror_mode": {
    "name": "ipython",
    "version": 3
   },
   "file_extension": ".py",
   "mimetype": "text/x-python",
   "name": "python",
   "nbconvert_exporter": "python",
   "pygments_lexer": "ipython3",
   "version": "3.9.7"
  }
 },
 "nbformat": 4,
 "nbformat_minor": 5
}
